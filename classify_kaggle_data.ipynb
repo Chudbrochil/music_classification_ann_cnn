{
 "cells": [
  {
   "cell_type": "code",
   "execution_count": 2,
   "metadata": {},
   "outputs": [],
   "source": [
    "from keras import layers\n",
    "from keras.layers import Input, Dense, Activation, ZeroPadding2D, BatchNormalization, Flatten, Conv2D\n",
    "from keras.layers import AveragePooling2D, MaxPooling2D, Dropout, GlobalMaxPooling2D, GlobalAveragePooling2D\n",
    "from keras.models import Sequential\n",
    "from keras.preprocessing import image\n",
    "from keras.utils import layer_utils\n",
    "from keras.optimizers import SGD\n",
    "from keras.models import load_model\n",
    "\n",
    "import numpy as np"
   ]
  },
  {
   "cell_type": "code",
   "execution_count": 13,
   "metadata": {},
   "outputs": [],
   "source": [
    "import os"
   ]
  },
  {
   "cell_type": "code",
   "execution_count": 4,
   "metadata": {},
   "outputs": [],
   "source": [
    "# Load in pre-trained model for music classification\n",
    "model = load_model(\"trained_music_classifier.h5\")"
   ]
  },
  {
   "cell_type": "code",
   "execution_count": 6,
   "metadata": {},
   "outputs": [],
   "source": [
    "X_test = np.load(\"X_test.dat\")\n",
    "# normalize testing data\n",
    "X_test = X_test / 255"
   ]
  },
  {
   "cell_type": "code",
   "execution_count": 8,
   "metadata": {},
   "outputs": [
    {
     "name": "stdout",
     "output_type": "stream",
     "text": [
      "100/100 [==============================] - 15s    \n"
     ]
    }
   ],
   "source": [
    "# make predictions on validation data from Kaggle\n",
    "predictions = model.predict_classes(X_test, verbose=1)"
   ]
  },
  {
   "cell_type": "markdown",
   "metadata": {},
   "source": [
    "## Converting predictions to genre names"
   ]
  },
  {
   "cell_type": "code",
   "execution_count": 9,
   "metadata": {},
   "outputs": [
    {
     "data": {
      "text/plain": [
       "array([6, 0, 1, 5, 5, 1, 0, 5, 5, 5, 7, 5, 3, 3, 2, 2, 0, 3, 6, 8, 0, 3, 7,\n",
       "       3, 4, 6, 4, 5, 0, 0, 6, 9, 4, 1, 9, 4, 8, 2, 9, 5, 6, 6, 5, 9, 1, 4,\n",
       "       3, 2, 5, 2, 7, 6, 3, 8, 7, 2, 6, 6, 3, 3, 0, 7, 4, 6, 7, 6, 4, 3, 5,\n",
       "       9, 4, 2, 1, 0, 5, 4, 6, 8, 2, 0, 3, 0, 2, 6, 4, 0, 7, 2, 9, 9, 3, 3,\n",
       "       5, 9, 1, 6, 8, 1, 7, 4], dtype=int64)"
      ]
     },
     "execution_count": 9,
     "metadata": {},
     "output_type": "execute_result"
    }
   ],
   "source": [
    "predictions"
   ]
  },
  {
   "cell_type": "code",
   "execution_count": 10,
   "metadata": {},
   "outputs": [],
   "source": [
    "prediction_names = []\n",
    "\n",
    "for prediction in predictions:\n",
    "    if prediction == 0:\n",
    "        prediction_names.append(\"blues\")\n",
    "    elif prediction == 1:\n",
    "        prediction_names.append(\"classical\")\n",
    "    elif prediction == 2:\n",
    "        prediction_names.append(\"country\")\n",
    "    elif prediction == 3:\n",
    "        prediction_names.append(\"disco\")\n",
    "    elif prediction == 4:\n",
    "        prediction_names.append(\"hiphop\")\n",
    "    elif prediction == 5:\n",
    "        prediction_names.append(\"jazz\")\n",
    "    elif prediction == 6:\n",
    "        prediction_names.append(\"metal\")\n",
    "    elif prediction == 7:\n",
    "        prediction_names.append(\"pop\")\n",
    "    elif prediction == 8:\n",
    "        prediction_names.append(\"reggae\")\n",
    "    else:\n",
    "        prediction_names.append(\"rock\")"
   ]
  },
  {
   "cell_type": "code",
   "execution_count": 11,
   "metadata": {},
   "outputs": [
    {
     "data": {
      "text/plain": [
       "['metal',\n",
       " 'blues',\n",
       " 'classical',\n",
       " 'jazz',\n",
       " 'jazz',\n",
       " 'classical',\n",
       " 'blues',\n",
       " 'jazz',\n",
       " 'jazz',\n",
       " 'jazz',\n",
       " 'pop',\n",
       " 'jazz',\n",
       " 'disco',\n",
       " 'disco',\n",
       " 'country',\n",
       " 'country',\n",
       " 'blues',\n",
       " 'disco',\n",
       " 'metal',\n",
       " 'reggae',\n",
       " 'blues',\n",
       " 'disco',\n",
       " 'pop',\n",
       " 'disco',\n",
       " 'hiphop',\n",
       " 'metal',\n",
       " 'hiphop',\n",
       " 'jazz',\n",
       " 'blues',\n",
       " 'blues',\n",
       " 'metal',\n",
       " 'rock',\n",
       " 'hiphop',\n",
       " 'classical',\n",
       " 'rock',\n",
       " 'hiphop',\n",
       " 'reggae',\n",
       " 'country',\n",
       " 'rock',\n",
       " 'jazz',\n",
       " 'metal',\n",
       " 'metal',\n",
       " 'jazz',\n",
       " 'rock',\n",
       " 'classical',\n",
       " 'hiphop',\n",
       " 'disco',\n",
       " 'country',\n",
       " 'jazz',\n",
       " 'country',\n",
       " 'pop',\n",
       " 'metal',\n",
       " 'disco',\n",
       " 'reggae',\n",
       " 'pop',\n",
       " 'country',\n",
       " 'metal',\n",
       " 'metal',\n",
       " 'disco',\n",
       " 'disco',\n",
       " 'blues',\n",
       " 'pop',\n",
       " 'hiphop',\n",
       " 'metal',\n",
       " 'pop',\n",
       " 'metal',\n",
       " 'hiphop',\n",
       " 'disco',\n",
       " 'jazz',\n",
       " 'rock',\n",
       " 'hiphop',\n",
       " 'country',\n",
       " 'classical',\n",
       " 'blues',\n",
       " 'jazz',\n",
       " 'hiphop',\n",
       " 'metal',\n",
       " 'reggae',\n",
       " 'country',\n",
       " 'blues',\n",
       " 'disco',\n",
       " 'blues',\n",
       " 'country',\n",
       " 'metal',\n",
       " 'hiphop',\n",
       " 'blues',\n",
       " 'pop',\n",
       " 'country',\n",
       " 'rock',\n",
       " 'rock',\n",
       " 'disco',\n",
       " 'disco',\n",
       " 'jazz',\n",
       " 'rock',\n",
       " 'classical',\n",
       " 'metal',\n",
       " 'reggae',\n",
       " 'classical',\n",
       " 'pop',\n",
       " 'hiphop']"
      ]
     },
     "execution_count": 11,
     "metadata": {},
     "output_type": "execute_result"
    }
   ],
   "source": [
    "prediction_names"
   ]
  },
  {
   "cell_type": "code",
   "execution_count": 21,
   "metadata": {},
   "outputs": [
    {
     "name": "stdout",
     "output_type": "stream",
     "text": [
      "validation.00596.au\n",
      "validation.02436.au\n",
      "validation.02930.au\n",
      "validation.03364.au\n",
      "validation.03550.au\n",
      "validation.04625.au\n",
      "validation.07561.au\n",
      "validation.07642.au\n",
      "validation.09065.au\n",
      "validation.09885.au\n",
      "validation.12150.au\n",
      "validation.13350.au\n",
      "validation.16676.au\n",
      "validation.17817.au\n",
      "validation.18392.au\n",
      "validation.18794.au\n",
      "validation.18828.au\n",
      "validation.19082.au\n",
      "validation.21589.au\n",
      "validation.23193.au\n",
      "validation.23211.au\n",
      "validation.23301.au\n",
      "validation.24620.au\n",
      "validation.25407.au\n",
      "validation.26050.au\n",
      "validation.26581.au\n",
      "validation.28540.au\n",
      "validation.28558.au\n",
      "validation.29001.au\n",
      "validation.29659.au\n",
      "validation.30482.au\n",
      "validation.30768.au\n",
      "validation.32510.au\n",
      "validation.32787.au\n",
      "validation.33033.au\n",
      "validation.33529.au\n",
      "validation.34800.au\n",
      "validation.34835.au\n",
      "validation.34938.au\n",
      "validation.36126.au\n",
      "validation.39797.au\n",
      "validation.41870.au\n",
      "validation.43948.au\n",
      "validation.44485.au\n",
      "validation.47303.au\n",
      "validation.49246.au\n",
      "validation.51339.au\n",
      "validation.51932.au\n",
      "validation.52165.au\n",
      "validation.52376.au\n",
      "validation.53339.au\n",
      "validation.54199.au\n",
      "validation.56037.au\n",
      "validation.60352.au\n",
      "validation.62461.au\n",
      "validation.62917.au\n",
      "validation.64717.au\n",
      "validation.65355.au\n",
      "validation.66836.au\n",
      "validation.67898.au\n",
      "validation.68246.au\n",
      "validation.68504.au\n",
      "validation.68600.au\n",
      "validation.69645.au\n",
      "validation.70325.au\n",
      "validation.70514.au\n",
      "validation.70521.au\n",
      "validation.70709.au\n",
      "validation.71178.au\n",
      "validation.71558.au\n",
      "validation.72738.au\n",
      "validation.72918.au\n",
      "validation.73325.au\n",
      "validation.73749.au\n",
      "validation.76427.au\n",
      "validation.76541.au\n",
      "validation.77219.au\n",
      "validation.79401.au\n",
      "validation.80325.au\n",
      "validation.80446.au\n",
      "validation.80480.au\n",
      "validation.81197.au\n",
      "validation.84038.au\n",
      "validation.86647.au\n",
      "validation.87593.au\n",
      "validation.87812.au\n",
      "validation.88839.au\n",
      "validation.89176.au\n",
      "validation.89749.au\n",
      "validation.91278.au\n",
      "validation.91579.au\n",
      "validation.93577.au\n",
      "validation.94066.au\n",
      "validation.94863.au\n",
      "validation.95021.au\n",
      "validation.95763.au\n",
      "validation.96483.au\n",
      "validation.97080.au\n",
      "validation.97638.au\n",
      "validation.97760.au\n"
     ]
    }
   ],
   "source": [
    "list_of_file_names = []\n",
    "for file in os.listdir(os.getcwd() + \"/validation_pngfiles\"):\n",
    "    file = file.replace(\"png\", \"au\")\n",
    "    file = file.split(\"ion\")\n",
    "    file = file[0] + \"ion\" + \".\" + file[1]\n",
    "    print(file)\n",
    "    list_of_file_names.append(file)"
   ]
  },
  {
   "cell_type": "code",
   "execution_count": 22,
   "metadata": {},
   "outputs": [],
   "source": [
    "output_file = open(\"output.csv\", \"w\")\n",
    "output_file.write(\"id,class\\n\")\n",
    "\n",
    "i = 0\n",
    "for prediction in prediction_names:\n",
    "    output_file.write(\"%s,%s\\n\" % (list_of_file_names[i], prediction))\n",
    "    i += 1\n",
    "\n",
    "output_file.close()"
   ]
  },
  {
   "cell_type": "code",
   "execution_count": null,
   "metadata": {},
   "outputs": [],
   "source": []
  }
 ],
 "metadata": {
  "kernelspec": {
   "display_name": "Python 3",
   "language": "python",
   "name": "python3"
  },
  "language_info": {
   "codemirror_mode": {
    "name": "ipython",
    "version": 3
   },
   "file_extension": ".py",
   "mimetype": "text/x-python",
   "name": "python",
   "nbconvert_exporter": "python",
   "pygments_lexer": "ipython3",
   "version": "3.6.3"
  }
 },
 "nbformat": 4,
 "nbformat_minor": 2
}
