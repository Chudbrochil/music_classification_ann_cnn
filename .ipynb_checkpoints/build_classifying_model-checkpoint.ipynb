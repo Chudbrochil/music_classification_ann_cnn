{
 "cells": [
  {
   "cell_type": "code",
   "execution_count": 1,
   "metadata": {},
   "outputs": [
    {
     "name": "stderr",
     "output_type": "stream",
     "text": [
      "Using TensorFlow backend.\n"
     ]
    }
   ],
   "source": [
    "\n",
    "from keras import layers\n",
    "from keras.layers import Input, Dense, Activation, ZeroPadding2D, BatchNormalization, Flatten, Conv2D\n",
    "from keras.layers import AveragePooling2D, MaxPooling2D, Dropout, GlobalMaxPooling2D, GlobalAveragePooling2D\n",
    "from keras.models import Sequential\n",
    "from keras.preprocessing import image\n",
    "from keras.utils import layer_utils\n",
    "from keras.optimizers import SGD\n",
    "\n",
    "import numpy as np"
   ]
  },
  {
   "cell_type": "code",
   "execution_count": 2,
   "metadata": {},
   "outputs": [],
   "source": [
    "X_train = np.load(\"X_train.dat\")\n",
    "y_train = np.load(\"y_train.dat\")"
   ]
  },
  {
   "cell_type": "code",
   "execution_count": 3,
   "metadata": {},
   "outputs": [],
   "source": [
    "from sklearn.utils import shuffle\n",
    "X_train, y_train = shuffle(X_train, y_train, random_state=0)"
   ]
  },
  {
   "cell_type": "code",
   "execution_count": 4,
   "metadata": {},
   "outputs": [
    {
     "name": "stdout",
     "output_type": "stream",
     "text": [
      "(900, 124, 174, 3)\n",
      "(900, 10)\n",
      "Validation x train set:(200, 124, 174, 3)\n",
      "X train set:(700, 124, 174, 3)\n",
      "Validation y train set:(200, 10)\n",
      "Y train set:(700, 10)\n"
     ]
    }
   ],
   "source": [
    "X_train = X_train/255\n",
    "\n",
    "print(X_train.shape)\n",
    "print(y_train.shape)\n",
    "\n",
    "# split data into validation set\n",
    "X_train_validation = X_train[700:, :,:,:]\n",
    "X_train = X_train[:700, :, :, :]\n",
    "y_train_validation = y_train[700:, :]\n",
    "y_train = y_train[:700,:]\n",
    "X_train = X_train[:700, :, :, :]\n",
    "print(\"Validation x train set:\" + str(X_train_validation.shape))\n",
    "print(\"X train set:\" + str(X_train.shape))\n",
    "print(\"Validation y train set:\" + str(y_train_validation.shape))\n",
    "print(\"Y train set:\" + str(y_train.shape))"
   ]
  },
  {
   "cell_type": "markdown",
   "metadata": {},
   "source": [
    "## Build the CNN network"
   ]
  },
  {
   "cell_type": "code",
   "execution_count": 7,
   "metadata": {},
   "outputs": [],
   "source": [
    "model = Sequential()\n",
    "# input: 100x100 images with 3 channels -> (100, 100, 3) tensors.\n",
    "# this applies 32 convolution filters of size 3x3 each.\n",
    "model.add(Conv2D(32, (7, 7), activation='relu', input_shape=X_train.shape[1:]))\n",
    "model.add(BatchNormalization())\n",
    "model.add(Conv2D(32, (7, 7), activation='relu'))\n",
    "model.add(BatchNormalization())\n",
    "model.add(MaxPooling2D(pool_size=(2, 2)))\n",
    "# model.add(Dropout(0.25))\n",
    "\n",
    "model.add(Conv2D(64, (3, 3), activation='relu'))\n",
    "model.add(BatchNormalization())\n",
    "model.add(Conv2D(64, (3, 3), activation='relu'))\n",
    "model.add(BatchNormalization())\n",
    "model.add(MaxPooling2D(pool_size=(2, 2)))\n",
    "# model.add(Dropout(0.25))\n",
    "\n",
    "# # FLATTEN X (means convert it to a vector) + FULLYCONNECTED\n",
    "model.add(Flatten())\n",
    "model.add(Dense(256, activation='relu'))\n",
    "model.add(Dense(10, activation='softmax'))"
   ]
  },
  {
   "cell_type": "markdown",
   "metadata": {},
   "source": [
    "## Begin training the model"
   ]
  },
  {
   "cell_type": "code",
   "execution_count": null,
   "metadata": {},
   "outputs": [
    {
     "name": "stdout",
     "output_type": "stream",
     "text": [
      "Epoch 1/25\n",
      "700/700 [==============================] - 366s - loss: 13.2252 - acc: 0.1471    \n",
      "Epoch 2/25\n",
      "700/700 [==============================] - 411s - loss: 13.9767 - acc: 0.1329    \n",
      "Epoch 3/25\n",
      "700/700 [==============================] - 365s - loss: 13.6774 - acc: 0.1514    \n",
      "Epoch 4/25\n",
      "700/700 [==============================] - 386s - loss: 13.6083 - acc: 0.1557    \n",
      "Epoch 5/25\n",
      "700/700 [==============================] - 356s - loss: 13.5172 - acc: 0.1600    \n",
      "Epoch 6/25\n",
      "700/700 [==============================] - 343s - loss: 14.5754 - acc: 0.0957    \n",
      "Epoch 7/25\n",
      "700/700 [==============================] - 342s - loss: 14.9622 - acc: 0.0700    \n",
      "Epoch 8/25\n",
      "700/700 [==============================] - 344s - loss: 13.9419 - acc: 0.1329    \n",
      "Epoch 9/25\n",
      "700/700 [==============================] - 343s - loss: 13.7234 - acc: 0.1486    \n",
      "Epoch 10/25\n",
      "700/700 [==============================] - 342s - loss: 13.7925 - acc: 0.1443    \n",
      "Epoch 11/25\n",
      "700/700 [==============================] - 335s - loss: 13.8846 - acc: 0.1386    \n",
      "Epoch 12/25\n",
      "700/700 [==============================] - 338s - loss: 13.8155 - acc: 0.1429    \n",
      "Epoch 13/25\n",
      "700/700 [==============================] - 339s - loss: 13.7464 - acc: 0.1471    \n",
      "Epoch 14/25\n",
      "700/700 [==============================] - 345s - loss: 14.1144 - acc: 0.1229    \n",
      "Epoch 15/25\n",
      "700/700 [==============================] - 377s - loss: 14.3221 - acc: 0.1114    \n",
      "Epoch 16/25\n",
      "700/700 [==============================] - 11314s - loss: 14.3451 - acc: 0.1100   \n",
      "Epoch 17/25\n",
      "384/700 [===============>..............] - ETA: 265s - loss: 14.1033 - acc: 0.1250"
     ]
    }
   ],
   "source": [
    "# sgd = SGD(lr=0.01, decay=1e-6, momentum=0.9, nesterov=True)\n",
    "\n",
    "model.compile('adam', 'categorical_crossentropy',metrics=['accuracy'])\n",
    "\n",
    "model.fit(X_train, y_train, batch_size=32, epochs=25)\n",
    "model.save(\"trained_music_classifier.h5\")"
   ]
  },
  {
   "cell_type": "markdown",
   "metadata": {},
   "source": [
    "## Evaluate the model"
   ]
  },
  {
   "cell_type": "code",
   "execution_count": null,
   "metadata": {},
   "outputs": [],
   "source": [
    "score = model.evaluate(X_train_validation, y_train_validation, batch_size=32, verbose=1)\n",
    "print(score)"
   ]
  },
  {
   "cell_type": "code",
   "execution_count": null,
   "metadata": {},
   "outputs": [],
   "source": []
  }
 ],
 "metadata": {
  "kernelspec": {
   "display_name": "Python 3",
   "language": "python",
   "name": "python3"
  },
  "language_info": {
   "codemirror_mode": {
    "name": "ipython",
    "version": 3
   },
   "file_extension": ".py",
   "mimetype": "text/x-python",
   "name": "python",
   "nbconvert_exporter": "python",
   "pygments_lexer": "ipython3",
   "version": "3.6.3"
  }
 },
 "nbformat": 4,
 "nbformat_minor": 2
}
